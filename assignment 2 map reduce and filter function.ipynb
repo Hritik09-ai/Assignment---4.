{
 "cells": [
  {
   "cell_type": "code",
   "execution_count": 1,
   "id": "ca66c5f0-b6a0-4fd6-807d-dee025a3444b",
   "metadata": {},
   "outputs": [],
   "source": [
    "\n",
    "# QUESTION.1 Create a python program to sort the given list of tuples based on integer value using a lambda function.\n",
    "\n",
    "# [('Sachin Tendulkar' , 34357), ('Ricky Ponting' , 27484), ('Jack kalllis' , 25534), ('Virat Kohli' , 24936)]\n",
    "\n",
    "L = [('Sachin Tendulkar' , 34357), ('Ricky Ponting' , 27484), ('Jack kalllis' , 25534), ('Virat Kohli' , 24936)]\n",
    "sorted_list = sorted(L , key = lambda L : L[1])"
   ]
  },
  {
   "cell_type": "code",
   "execution_count": 2,
   "id": "7eab5cd4-4a88-4ebd-94b6-37dedea0d23e",
   "metadata": {},
   "outputs": [
    {
     "name": "stdout",
     "output_type": "stream",
     "text": [
      "[('Virat Kohli', 24936), ('Jack kalllis', 25534), ('Ricky Ponting', 27484), ('Sachin Tendulkar', 34357)]\n"
     ]
    }
   ],
   "source": [
    "print(sorted_list)"
   ]
  },
  {
   "cell_type": "code",
   "execution_count": null,
   "id": "5ee5c685-50a2-48bb-83f2-a29785315b3f",
   "metadata": {},
   "outputs": [],
   "source": []
  },
  {
   "cell_type": "code",
   "execution_count": 3,
   "id": "b30274ac-748a-45de-9604-21cb38f34fcf",
   "metadata": {},
   "outputs": [],
   "source": [
    "\n",
    "# QUESTION.2 Write a python program to find the square of all the numbers in the given list of integers using lambda and \n",
    "# map functions.\n",
    "# [1,2,3,4,5,6,7,8,9,10]\n",
    "\n",
    "list_1= [1,2,3,4,5,6,7,8,9,10]\n",
    "sq_num = list(map(lambda x: x**2 , list_1))"
   ]
  },
  {
   "cell_type": "code",
   "execution_count": 4,
   "id": "841c8be2-4f1c-45ed-bbb6-497309c4f53e",
   "metadata": {},
   "outputs": [
    {
     "name": "stdout",
     "output_type": "stream",
     "text": [
      "[1, 4, 9, 16, 25, 36, 49, 64, 81, 100]\n"
     ]
    }
   ],
   "source": [
    "print(sq_num)"
   ]
  },
  {
   "cell_type": "code",
   "execution_count": null,
   "id": "692e1309-d5c9-4830-ac8e-e2af377c6e52",
   "metadata": {},
   "outputs": [],
   "source": []
  },
  {
   "cell_type": "code",
   "execution_count": 5,
   "id": "13d88e6b-fd24-4bc7-8fd8-f4287bd7736e",
   "metadata": {},
   "outputs": [],
   "source": [
    "\n",
    "# QUESTION.3 Write the python program to convert the given list of integer into a tuple of strings. Use map and lambda \n",
    "# function \n",
    "# Given String : [1,2,3,4,5,6,7,8,9,10]\n",
    "# Expected output : ('1','2','3','4','5','6','7','8','9','10')"
   ]
  },
  {
   "cell_type": "code",
   "execution_count": 6,
   "id": "50bf1762-5fc1-461a-ab19-e124ad6d259e",
   "metadata": {},
   "outputs": [],
   "source": [
    "L = [1,2,3,4,5,6,7,8,9,10]"
   ]
  },
  {
   "cell_type": "code",
   "execution_count": 7,
   "id": "c394151a-b6a8-46d0-af09-8199b1c5f803",
   "metadata": {},
   "outputs": [],
   "source": [
    "a = tuple(map(lambda L :str(L),L))"
   ]
  },
  {
   "cell_type": "code",
   "execution_count": 9,
   "id": "1188415e-e0bc-48a6-a70a-3e9810ff6c80",
   "metadata": {},
   "outputs": [
    {
     "name": "stdout",
     "output_type": "stream",
     "text": [
      "('1', '2', '3', '4', '5', '6', '7', '8', '9', '10')\n"
     ]
    }
   ],
   "source": [
    "print(a)"
   ]
  },
  {
   "cell_type": "code",
   "execution_count": 10,
   "id": "97b35cd5-2904-4829-88b5-fc978fb6145c",
   "metadata": {},
   "outputs": [],
   "source": [
    "from functools import reduce"
   ]
  },
  {
   "cell_type": "code",
   "execution_count": 11,
   "id": "7f87d0ac-5bf2-4340-807c-60d5e1c6fe19",
   "metadata": {},
   "outputs": [],
   "source": [
    "#QUESTION.4 Write a python program using reduce function to compute the product of a list containing number from 1 to 25.\n",
    "list_num = list(range(1,26))\n",
    "compute_L = reduce(lambda x,y : x*y , list_num)"
   ]
  },
  {
   "cell_type": "code",
   "execution_count": 12,
   "id": "dc580610-38c8-488a-813c-07d88c00b453",
   "metadata": {},
   "outputs": [
    {
     "name": "stdout",
     "output_type": "stream",
     "text": [
      "15511210043330985984000000\n"
     ]
    }
   ],
   "source": [
    "print(compute_L)"
   ]
  },
  {
   "cell_type": "code",
   "execution_count": null,
   "id": "272dd256-fd26-4d2e-bd90-c00da4ed0146",
   "metadata": {},
   "outputs": [],
   "source": []
  },
  {
   "cell_type": "code",
   "execution_count": 18,
   "id": "1cdeffdf-e0bb-4875-beec-855a4cc51107",
   "metadata": {},
   "outputs": [],
   "source": [
    "# QUESTION.5 Write a python programm to filter the number in a given list that are divisible by 2 and 3 using the filter \n",
    "# function.\n",
    "# [2,3,6,9,27,60,90,120,55,46]\n",
    "# ANSWER \n",
    "def test(number):\n",
    "    return number % 2 == 0 and number % 3 == 0\n",
    "L_num=[2,3,6,9,27,60,90,120,55,46]\n",
    "\n",
    "filter_num = list(filter(test,L_num))\n",
    "\n",
    "\n"
   ]
  },
  {
   "cell_type": "code",
   "execution_count": 19,
   "id": "131e76fe-a4eb-4400-96c1-178c9caf3eaf",
   "metadata": {},
   "outputs": [
    {
     "name": "stdout",
     "output_type": "stream",
     "text": [
      "[6, 60, 90, 120]\n"
     ]
    }
   ],
   "source": [
    "print(filter_num)"
   ]
  },
  {
   "cell_type": "code",
   "execution_count": null,
   "id": "49289158-1a99-4eb6-8d7b-d65c52c842c8",
   "metadata": {},
   "outputs": [],
   "source": [
    "\n"
   ]
  },
  {
   "cell_type": "code",
   "execution_count": 28,
   "id": "c202c457-c7f6-4e08-9b55-ec0df02bc06b",
   "metadata": {},
   "outputs": [],
   "source": [
    "# OUESTION.6 Write a python program to find palindrome in the given list of string using lambda and filter function.\n",
    "['python','php','aba','radar','level']\n",
    "# ANSWER  \n",
    "def pali(w) :\n",
    "    return w == w[::-1]\n",
    "word_list = ['python','php','aba','radar','level']\n",
    "\n",
    "palindrome = list(filter(lambda x:pali(x),word_list))"
   ]
  },
  {
   "cell_type": "code",
   "execution_count": 30,
   "id": "a14d47be-a181-436a-8c46-a81e28853e4f",
   "metadata": {},
   "outputs": [
    {
     "name": "stdout",
     "output_type": "stream",
     "text": [
      "palindromes in the list:  ['php', 'aba', 'radar', 'level']\n"
     ]
    }
   ],
   "source": [
    "print(\"palindromes in the list: \",palindrome)"
   ]
  },
  {
   "cell_type": "code",
   "execution_count": null,
   "id": "d7458c3c-0030-4181-8f29-9bc44ebcf096",
   "metadata": {},
   "outputs": [],
   "source": []
  },
  {
   "cell_type": "code",
   "execution_count": null,
   "id": "c5f6d2dd-ec09-4b50-860c-8558b67fbe43",
   "metadata": {},
   "outputs": [],
   "source": []
  }
 ],
 "metadata": {
  "kernelspec": {
   "display_name": "Python 3 (ipykernel)",
   "language": "python",
   "name": "python3"
  },
  "language_info": {
   "codemirror_mode": {
    "name": "ipython",
    "version": 3
   },
   "file_extension": ".py",
   "mimetype": "text/x-python",
   "name": "python",
   "nbconvert_exporter": "python",
   "pygments_lexer": "ipython3",
   "version": "3.10.8"
  }
 },
 "nbformat": 4,
 "nbformat_minor": 5
}
